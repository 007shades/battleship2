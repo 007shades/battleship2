{
  "cells": [
    {
      "cell_type": "markdown",
      "id": "574a79e7",
      "metadata": {
        "id": "574a79e7"
      },
      "source": [
        "<a href=\"https://colab.research.google.com/github/amontoison/Workshop-GERAD/blob/main/parallel_computing.ipynb\" target=\"_parent\"><img src=\"https://colab.research.google.com/assets/colab-badge.svg\" alt=\"Open In Colab\"/></a>"
      ]
    },
    {
      "cell_type": "markdown",
      "id": "894a4034-d0f5-492c-ab81-36c1a3949ea1",
      "metadata": {
        "id": "894a4034-d0f5-492c-ab81-36c1a3949ea1"
      },
      "source": [
        "# Parallel computing and GPU programming with Julia\n",
        "## Background\n",
        "Alexis Montoison"
      ]
    },
    {
      "cell_type": "code",
      "source": [
        "import Pkg\n",
        "Pkg.activate(\"colab2\")\n",
        "Pkg.add(\"Hwloc\")"
      ],
      "metadata": {
        "id": "1bV3F20XUxaU",
        "outputId": "9dccc802-2eac-49a5-9bdb-fadab002847d",
        "colab": {
          "base_uri": "https://localhost:8080/"
        }
      },
      "id": "1bV3F20XUxaU",
      "execution_count": 2,
      "outputs": [
        {
          "output_type": "stream",
          "name": "stderr",
          "text": [
            "\u001b[32m\u001b[1m  Activating\u001b[22m\u001b[39m new project at `/content/colab2`\n",
            "\u001b[32m\u001b[1m    Updating\u001b[22m\u001b[39m registry at `~/.julia/registries/General.toml`\n",
            "\u001b[32m\u001b[1m   Resolving\u001b[22m\u001b[39m package versions...\n",
            "\u001b[32m\u001b[1m   Installed\u001b[22m\u001b[39m XML2_jll ────────────── v2.13.8+0\n",
            "\u001b[32m\u001b[1m   Installed\u001b[22m\u001b[39m Hwloc ───────────────── v3.3.0\n",
            "\u001b[32m\u001b[1m   Installed\u001b[22m\u001b[39m Hwloc_jll ───────────── v2.12.2+0\n",
            "\u001b[32m\u001b[1m   Installed\u001b[22m\u001b[39m Xorg_libpciaccess_jll ─ v0.18.1+0\n",
            "\u001b[32m\u001b[1m    Updating\u001b[22m\u001b[39m `/content/colab2/Project.toml`\n",
            "  \u001b[90m[0e44f5e4] \u001b[39m\u001b[92m+ Hwloc v3.3.0\u001b[39m\n",
            "\u001b[32m\u001b[1m    Updating\u001b[22m\u001b[39m `/content/colab2/Manifest.toml`\n",
            "  \u001b[90m[fa961155] \u001b[39m\u001b[92m+ CEnum v0.5.0\u001b[39m\n",
            "  \u001b[90m[0e44f5e4] \u001b[39m\u001b[92m+ Hwloc v3.3.0\u001b[39m\n",
            "  \u001b[90m[692b3bcd] \u001b[39m\u001b[92m+ JLLWrappers v1.7.1\u001b[39m\n",
            "  \u001b[90m[21216c6a] \u001b[39m\u001b[92m+ Preferences v1.5.0\u001b[39m\n",
            "  \u001b[90m[e33a78d0] \u001b[39m\u001b[92m+ Hwloc_jll v2.12.2+0\u001b[39m\n",
            "  \u001b[90m[94ce4f54] \u001b[39m\u001b[92m+ Libiconv_jll v1.18.0+0\u001b[39m\n",
            "\u001b[33m⌅\u001b[39m \u001b[90m[02c8fc9c] \u001b[39m\u001b[92m+ XML2_jll v2.13.8+0\u001b[39m\n",
            "  \u001b[90m[a65dc6b1] \u001b[39m\u001b[92m+ Xorg_libpciaccess_jll v0.18.1+0\u001b[39m\n",
            "  \u001b[90m[56f22d72] \u001b[39m\u001b[92m+ Artifacts v1.11.0\u001b[39m\n",
            "  \u001b[90m[ade2ca70] \u001b[39m\u001b[92m+ Dates v1.11.0\u001b[39m\n",
            "  \u001b[90m[8f399da3] \u001b[39m\u001b[92m+ Libdl v1.11.0\u001b[39m\n",
            "  \u001b[90m[de0858da] \u001b[39m\u001b[92m+ Printf v1.11.0\u001b[39m\n",
            "  \u001b[90m[fa267f1f] \u001b[39m\u001b[92m+ TOML v1.0.3\u001b[39m\n",
            "  \u001b[90m[4ec0a83e] \u001b[39m\u001b[92m+ Unicode v1.11.0\u001b[39m\n",
            "  \u001b[90m[83775a58] \u001b[39m\u001b[92m+ Zlib_jll v1.2.13+1\u001b[39m\n",
            "\u001b[36m\u001b[1m        Info\u001b[22m\u001b[39m Packages marked with \u001b[33m⌅\u001b[39m have new versions available but compatibility constraints restrict them from upgrading. To see why use `status --outdated -m`\n",
            "\u001b[92m\u001b[1mPrecompiling\u001b[22m\u001b[39m project...\n",
            "   1171.9 ms\u001b[32m  ✓ \u001b[39m\u001b[90mXorg_libpciaccess_jll\u001b[39m\n",
            "   1092.2 ms\u001b[32m  ✓ \u001b[39m\u001b[90mXML2_jll\u001b[39m\n",
            "    753.9 ms\u001b[32m  ✓ \u001b[39m\u001b[90mHwloc_jll\u001b[39m\n",
            "   2933.5 ms\u001b[32m  ✓ \u001b[39mHwloc\n",
            "  4 dependencies successfully precompiled in 6 seconds. 9 already precompiled.\n"
          ]
        }
      ]
    },
    {
      "cell_type": "markdown",
      "id": "de096d8f-7cd6-46d8-adef-b11ee8580573",
      "metadata": {
        "id": "de096d8f-7cd6-46d8-adef-b11ee8580573"
      },
      "source": [
        "<img src='https://github.com/amontoison/Workshop-GERAD/blob/main/Graphics/julia.png?raw=1' width='200'>"
      ]
    },
    {
      "cell_type": "markdown",
      "id": "412eaee8-7e29-429c-a40c-5ea598439210",
      "metadata": {
        "id": "412eaee8-7e29-429c-a40c-5ea598439210"
      },
      "source": [
        "There are many types of parallelism:\n",
        "\n",
        "* **Instruction level parallelism** (e.g. SIMD)\n",
        "* **Multi-threading** (shared memory)\n",
        "* **Multi-processing** (shared system memory)\n",
        "* **Distributed processing** (typically no shared memory)\n",
        "\n",
        "And then there are highly-parallel hardware accelerators like **GPUs**.\n",
        "\n",
        "Important: **At the center of any efficient parallel code is a fast serial code!!!**"
      ]
    },
    {
      "cell_type": "markdown",
      "id": "afdaa8a9-667f-42e4-a505-fff172bf1820",
      "metadata": {
        "id": "afdaa8a9-667f-42e4-a505-fff172bf1820"
      },
      "source": [
        "### When go parallel?\n",
        "\n",
        "* If parts of your (optimized!) serial code aren't fast enough.\n",
        "  * note that parallelization typically increases the code complexity.\n",
        "* If your system has multiple execution units (CPU cores, GPU streaming multiprocessors, ...).\n",
        "  * particularly important on large supercomputers but also already on modern desktop computers and laptops."
      ]
    },
    {
      "cell_type": "markdown",
      "id": "e925019e-22a7-42b9-a83f-dddcdb4992d5",
      "metadata": {
        "id": "e925019e-22a7-42b9-a83f-dddcdb4992d5"
      },
      "source": [
        "<img src='https://github.com/amontoison/Workshop-GERAD/blob/main/Graphics/frontier.png?raw=1' width='600'>"
      ]
    },
    {
      "cell_type": "markdown",
      "id": "d9679a42-e942-4b0a-934c-00deac7fdcc0",
      "metadata": {
        "id": "d9679a42-e942-4b0a-934c-00deac7fdcc0"
      },
      "source": [
        "<img src='https://github.com/amontoison/Workshop-GERAD/blob/main/Graphics/aurora.png?raw=1' width='600'>"
      ]
    },
    {
      "cell_type": "markdown",
      "id": "28783dd5-f488-41d9-a4d4-2ec5901a8679",
      "metadata": {
        "id": "28783dd5-f488-41d9-a4d4-2ec5901a8679"
      },
      "source": [
        "### How many CPU threads / cores do I have?"
      ]
    },
    {
      "cell_type": "code",
      "execution_count": 1,
      "id": "05b426ca-0bf6-4d0c-8a44-5cd2e1d3f151",
      "metadata": {
        "id": "05b426ca-0bf6-4d0c-8a44-5cd2e1d3f151",
        "outputId": "7b91d66c-5f3c-4c3a-fdef-586c2a8fbf37",
        "colab": {
          "base_uri": "https://localhost:8080/",
          "height": 315
        }
      },
      "outputs": [
        {
          "output_type": "error",
          "ename": "LoadError",
          "evalue": "ArgumentError: Package Hwloc not found in current path.\n- Run `import Pkg; Pkg.add(\"Hwloc\")` to install the Hwloc package.",
          "traceback": [
            "ArgumentError: Package Hwloc not found in current path.\n- Run `import Pkg; Pkg.add(\"Hwloc\")` to install the Hwloc package.",
            "",
            "Stacktrace:",
            " [1] \u001b[0m\u001b[1mmacro expansion\u001b[22m",
            "\u001b[90m   @\u001b[39m \u001b[90m./\u001b[39m\u001b[90m\u001b[4mloading.jl:2296\u001b[24m\u001b[39m\u001b[90m [inlined]\u001b[39m",
            " [2] \u001b[0m\u001b[1mmacro expansion\u001b[22m",
            "\u001b[90m   @\u001b[39m \u001b[90m./\u001b[39m\u001b[90m\u001b[4mlock.jl:273\u001b[24m\u001b[39m\u001b[90m [inlined]\u001b[39m",
            " [3] \u001b[0m\u001b[1m__require\u001b[22m\u001b[0m\u001b[1m(\u001b[22m\u001b[90minto\u001b[39m::\u001b[0mModule, \u001b[90mmod\u001b[39m::\u001b[0mSymbol\u001b[0m\u001b[1m)\u001b[22m",
            "\u001b[90m   @\u001b[39m \u001b[90mBase\u001b[39m \u001b[90m./\u001b[39m\u001b[90m\u001b[4mloading.jl:2271\u001b[24m\u001b[39m",
            " [4] \u001b[0m\u001b[1m#invoke_in_world#3\u001b[22m",
            "\u001b[90m   @\u001b[39m \u001b[90m./\u001b[39m\u001b[90m\u001b[4messentials.jl:1089\u001b[24m\u001b[39m\u001b[90m [inlined]\u001b[39m",
            " [5] \u001b[0m\u001b[1minvoke_in_world\u001b[22m",
            "\u001b[90m   @\u001b[39m \u001b[90m./\u001b[39m\u001b[90m\u001b[4messentials.jl:1086\u001b[24m\u001b[39m\u001b[90m [inlined]\u001b[39m",
            " [6] \u001b[0m\u001b[1mrequire\u001b[22m\u001b[0m\u001b[1m(\u001b[22m\u001b[90minto\u001b[39m::\u001b[0mModule, \u001b[90mmod\u001b[39m::\u001b[0mSymbol\u001b[0m\u001b[1m)\u001b[22m",
            "\u001b[90m   @\u001b[39m \u001b[90mBase\u001b[39m \u001b[90m./\u001b[39m\u001b[90m\u001b[4mloading.jl:2260\u001b[24m\u001b[39m"
          ]
        }
      ],
      "source": [
        "using Hwloc\n",
        "Hwloc.num_physical_cores()"
      ]
    },
    {
      "cell_type": "markdown",
      "id": "afb0c090-d2ad-43e8-b7a6-4889ead2a18b",
      "metadata": {
        "id": "afb0c090-d2ad-43e8-b7a6-4889ead2a18b"
      },
      "source": [
        "Note that there may be more than one CPU thread per physical CPU core (e.g. hyperthreading)."
      ]
    },
    {
      "cell_type": "code",
      "execution_count": null,
      "id": "9a03fca5-aedc-4781-a57f-8b6f4e1b9bd8",
      "metadata": {
        "id": "9a03fca5-aedc-4781-a57f-8b6f4e1b9bd8",
        "outputId": "7d8c92d6-e685-4793-ae4d-c006fd2e70e7",
        "colab": {
          "base_uri": "https://localhost:8080/"
        }
      },
      "outputs": [
        {
          "output_type": "execute_result",
          "data": {
            "text/plain": [
              "2"
            ]
          },
          "metadata": {},
          "execution_count": 7
        }
      ],
      "source": [
        "Sys.CPU_THREADS"
      ]
    },
    {
      "cell_type": "markdown",
      "id": "83ef1c5a-394f-4f7c-bea4-72794ee85f5e",
      "metadata": {
        "id": "83ef1c5a-394f-4f7c-bea4-72794ee85f5e"
      },
      "source": [
        "### Amdahl's law"
      ]
    },
    {
      "cell_type": "markdown",
      "id": "eaa76f88-9371-402d-a228-4b61c728094f",
      "metadata": {
        "id": "eaa76f88-9371-402d-a228-4b61c728094f"
      },
      "source": [
        "Naive strong scaling expectation: I have 4 cores, give me my 4x speedup!"
      ]
    },
    {
      "cell_type": "markdown",
      "id": "ed73e79b-dc40-4c38-a15c-efc1c743b6f9",
      "metadata": {
        "id": "ed73e79b-dc40-4c38-a15c-efc1c743b6f9"
      },
      "source": [
        "> If $p$ is the fraction of a code that can be parallelized, then the maximal theoretical speedup by parallelization on $n$ cores is given by $$ F(n) = \\frac{1}{1 - p + p / n} $$"
      ]
    },
    {
      "cell_type": "code",
      "execution_count": 3,
      "id": "43cdecfb-5748-444c-a3ae-28615bb2ef8e",
      "metadata": {
        "id": "43cdecfb-5748-444c-a3ae-28615bb2ef8e",
        "outputId": "dcd9009f-7f2a-45cf-f380-5d3685b7a467",
        "colab": {
          "base_uri": "https://localhost:8080/",
          "height": 818
        }
      },
      "outputs": [
        {
          "output_type": "error",
          "ename": "LoadError",
          "evalue": "InitError: could not load library \"/root/.julia/artifacts/52d9b3e9e3507f7b2cf723af43d0e7f095e2edc7/lib/libGL.so\"\n/root/.julia/artifacts/52d9b3e9e3507f7b2cf723af43d0e7f095e2edc7/lib/libGL.so: undefined symbol: _glapi_tls_Current\nduring initialization of module Libglvnd_jll",
          "traceback": [
            "InitError: could not load library \"/root/.julia/artifacts/52d9b3e9e3507f7b2cf723af43d0e7f095e2edc7/lib/libGL.so\"\n/root/.julia/artifacts/52d9b3e9e3507f7b2cf723af43d0e7f095e2edc7/lib/libGL.so: undefined symbol: _glapi_tls_Current\nduring initialization of module Libglvnd_jll",
            "",
            "Stacktrace:",
            "  [1] \u001b[0m\u001b[1mdlopen\u001b[22m\u001b[0m\u001b[1m(\u001b[22m\u001b[90ms\u001b[39m::\u001b[0mString, \u001b[90mflags\u001b[39m::\u001b[0mUInt32; \u001b[90mthrow_error\u001b[39m::\u001b[0mBool\u001b[0m\u001b[1m)\u001b[22m",
            "\u001b[90m    @\u001b[39m \u001b[90mBase.Libc.Libdl\u001b[39m \u001b[90m./\u001b[39m\u001b[90m\u001b[4mlibdl.jl:120\u001b[24m\u001b[39m",
            "  [2] \u001b[0m\u001b[1mdlopen\u001b[22m\u001b[0m\u001b[1m(\u001b[22m\u001b[90ms\u001b[39m::\u001b[0mString, \u001b[90mflags\u001b[39m::\u001b[0mUInt32\u001b[0m\u001b[1m)\u001b[22m",
            "\u001b[90m    @\u001b[39m \u001b[90mBase.Libc.Libdl\u001b[39m \u001b[90m./\u001b[39m\u001b[90m\u001b[4mlibdl.jl:119\u001b[24m\u001b[39m",
            "  [3] \u001b[0m\u001b[1mmacro expansion\u001b[22m",
            "\u001b[90m    @\u001b[39m \u001b[90m~/.julia/packages/JLLWrappers/m2Pjh/src/products/\u001b[39m\u001b[90m\u001b[4mlibrary_generators.jl:63\u001b[24m\u001b[39m\u001b[90m [inlined]\u001b[39m",
            "  [4] \u001b[0m\u001b[1m__init__\u001b[22m\u001b[0m\u001b[1m(\u001b[22m\u001b[0m\u001b[1m)\u001b[22m",
            "\u001b[90m    @\u001b[39m \u001b[35mLibglvnd_jll\u001b[39m \u001b[90m~/.julia/packages/Libglvnd_jll/upkN8/src/wrappers/\u001b[39m\u001b[90m\u001b[4mx86_64-linux-gnu.jl:22\u001b[24m\u001b[39m",
            "  [5] \u001b[0m\u001b[1mrun_module_init\u001b[22m\u001b[0m\u001b[1m(\u001b[22m\u001b[90mmod\u001b[39m::\u001b[0mModule, \u001b[90mi\u001b[39m::\u001b[0mInt64\u001b[0m\u001b[1m)\u001b[22m",
            "\u001b[90m    @\u001b[39m \u001b[90mBase\u001b[39m \u001b[90m./\u001b[39m\u001b[90m\u001b[4mloading.jl:1378\u001b[24m\u001b[39m",
            "  [6] \u001b[0m\u001b[1mregister_restored_modules\u001b[22m\u001b[0m\u001b[1m(\u001b[22m\u001b[90msv\u001b[39m::\u001b[0mCore.SimpleVector, \u001b[90mpkg\u001b[39m::\u001b[0mBase.PkgId, \u001b[90mpath\u001b[39m::\u001b[0mString\u001b[0m\u001b[1m)\u001b[22m",
            "\u001b[90m    @\u001b[39m \u001b[90mBase\u001b[39m \u001b[90m./\u001b[39m\u001b[90m\u001b[4mloading.jl:1366\u001b[24m\u001b[39m",
            "  [7] \u001b[0m\u001b[1m_include_from_serialized\u001b[22m\u001b[0m\u001b[1m(\u001b[22m\u001b[90mpkg\u001b[39m::\u001b[0mBase.PkgId, \u001b[90mpath\u001b[39m::\u001b[0mString, \u001b[90mocachepath\u001b[39m::\u001b[0mString, \u001b[90mdepmods\u001b[39m::\u001b[0mVector\u001b[90m{Any}\u001b[39m, \u001b[90mignore_native\u001b[39m::\u001b[0mNothing; \u001b[90mregister\u001b[39m::\u001b[0mBool\u001b[0m\u001b[1m)\u001b[22m",
            "\u001b[90m    @\u001b[39m \u001b[90mBase\u001b[39m \u001b[90m./\u001b[39m\u001b[90m\u001b[4mloading.jl:1254\u001b[24m\u001b[39m",
            "  [8] \u001b[0m\u001b[1m_include_from_serialized\u001b[22m\u001b[90m (repeats 2 times)\u001b[39m",
            "\u001b[90m    @\u001b[39m \u001b[90m./\u001b[39m\u001b[90m\u001b[4mloading.jl:1210\u001b[24m\u001b[39m\u001b[90m [inlined]\u001b[39m",
            "  [9] \u001b[0m\u001b[1m_require_search_from_serialized\u001b[22m\u001b[0m\u001b[1m(\u001b[22m\u001b[90mpkg\u001b[39m::\u001b[0mBase.PkgId, \u001b[90msourcepath\u001b[39m::\u001b[0mString, \u001b[90mbuild_id\u001b[39m::\u001b[0mUInt128, \u001b[90mstalecheck\u001b[39m::\u001b[0mBool; \u001b[90mreasons\u001b[39m::\u001b[0mDict\u001b[90m{String, Int64}\u001b[39m, \u001b[90mDEPOT_PATH\u001b[39m::\u001b[0mVector\u001b[90m{String}\u001b[39m\u001b[0m\u001b[1m)\u001b[22m",
            "\u001b[90m    @\u001b[39m \u001b[90mBase\u001b[39m \u001b[90m./\u001b[39m\u001b[90m\u001b[4mloading.jl:2041\u001b[24m\u001b[39m",
            " [10] \u001b[0m\u001b[1m_require\u001b[22m\u001b[0m\u001b[1m(\u001b[22m\u001b[90mpkg\u001b[39m::\u001b[0mBase.PkgId, \u001b[90menv\u001b[39m::\u001b[0mString\u001b[0m\u001b[1m)\u001b[22m",
            "\u001b[90m    @\u001b[39m \u001b[90mBase\u001b[39m \u001b[90m./\u001b[39m\u001b[90m\u001b[4mloading.jl:2527\u001b[24m\u001b[39m",
            " [11] \u001b[0m\u001b[1m__require_prelocked\u001b[22m\u001b[0m\u001b[1m(\u001b[22m\u001b[90muuidkey\u001b[39m::\u001b[0mBase.PkgId, \u001b[90menv\u001b[39m::\u001b[0mString\u001b[0m\u001b[1m)\u001b[22m",
            "\u001b[90m    @\u001b[39m \u001b[90mBase\u001b[39m \u001b[90m./\u001b[39m\u001b[90m\u001b[4mloading.jl:2388\u001b[24m\u001b[39m",
            " [12] \u001b[0m\u001b[1m#invoke_in_world#3\u001b[22m",
            "\u001b[90m    @\u001b[39m \u001b[90m./\u001b[39m\u001b[90m\u001b[4messentials.jl:1089\u001b[24m\u001b[39m\u001b[90m [inlined]\u001b[39m",
            " [13] \u001b[0m\u001b[1minvoke_in_world\u001b[22m",
            "\u001b[90m    @\u001b[39m \u001b[90m./\u001b[39m\u001b[90m\u001b[4messentials.jl:1086\u001b[24m\u001b[39m\u001b[90m [inlined]\u001b[39m",
            " [14] \u001b[0m\u001b[1m_require_prelocked\u001b[22m\u001b[0m\u001b[1m(\u001b[22m\u001b[90muuidkey\u001b[39m::\u001b[0mBase.PkgId, \u001b[90menv\u001b[39m::\u001b[0mString\u001b[0m\u001b[1m)\u001b[22m",
            "\u001b[90m    @\u001b[39m \u001b[90mBase\u001b[39m \u001b[90m./\u001b[39m\u001b[90m\u001b[4mloading.jl:2375\u001b[24m\u001b[39m",
            " [15] \u001b[0m\u001b[1mmacro expansion\u001b[22m",
            "\u001b[90m    @\u001b[39m \u001b[90m./\u001b[39m\u001b[90m\u001b[4mloading.jl:2314\u001b[24m\u001b[39m\u001b[90m [inlined]\u001b[39m",
            " [16] \u001b[0m\u001b[1mmacro expansion\u001b[22m",
            "\u001b[90m    @\u001b[39m \u001b[90m./\u001b[39m\u001b[90m\u001b[4mlock.jl:273\u001b[24m\u001b[39m\u001b[90m [inlined]\u001b[39m",
            " [17] \u001b[0m\u001b[1m__require\u001b[22m\u001b[0m\u001b[1m(\u001b[22m\u001b[90minto\u001b[39m::\u001b[0mModule, \u001b[90mmod\u001b[39m::\u001b[0mSymbol\u001b[0m\u001b[1m)\u001b[22m",
            "\u001b[90m    @\u001b[39m \u001b[90mBase\u001b[39m \u001b[90m./\u001b[39m\u001b[90m\u001b[4mloading.jl:2271\u001b[24m\u001b[39m",
            " [18] \u001b[0m\u001b[1m#invoke_in_world#3\u001b[22m",
            "\u001b[90m    @\u001b[39m \u001b[90m./\u001b[39m\u001b[90m\u001b[4messentials.jl:1089\u001b[24m\u001b[39m\u001b[90m [inlined]\u001b[39m",
            " [19] \u001b[0m\u001b[1minvoke_in_world\u001b[22m",
            "\u001b[90m    @\u001b[39m \u001b[90m./\u001b[39m\u001b[90m\u001b[4messentials.jl:1086\u001b[24m\u001b[39m\u001b[90m [inlined]\u001b[39m",
            " [20] \u001b[0m\u001b[1mrequire\u001b[22m\u001b[0m\u001b[1m(\u001b[22m\u001b[90minto\u001b[39m::\u001b[0mModule, \u001b[90mmod\u001b[39m::\u001b[0mSymbol\u001b[0m\u001b[1m)\u001b[22m",
            "\u001b[90m    @\u001b[39m \u001b[90mBase\u001b[39m \u001b[90m./\u001b[39m\u001b[90m\u001b[4mloading.jl:2260\u001b[24m\u001b[39m"
          ]
        }
      ],
      "source": [
        "using Plots\n",
        "F(p,n) = 1/(1-p + p/n)\n",
        "\n",
        "pl = plot()\n",
        "for p in (0.5, 0.7, 0.9, 0.95, 0.99)\n",
        "    plot!(pl, n -> F(p,n), 1:8, lab=\"p=$p\", lw=2,\n",
        "        legend=:topleft, xlab=\"number of cores\", ylab=\"parallel speedup\", frame=:box)\n",
        "end\n",
        "pl"
      ]
    },
    {
      "cell_type": "markdown",
      "id": "27be4a45-8c15-4581-8c85-e34a373d26df",
      "metadata": {
        "id": "27be4a45-8c15-4581-8c85-e34a373d26df"
      },
      "source": [
        "### [Parallel computing](https://docs.julialang.org/en/v1/manual/parallel-computing/) in Julia"
      ]
    },
    {
      "cell_type": "markdown",
      "id": "c3b004b2-21cf-4398-a665-16a469f4d4a4",
      "metadata": {
        "id": "c3b004b2-21cf-4398-a665-16a469f4d4a4"
      },
      "source": [
        "Julia provides support for all types of parallelism mentioned above\n",
        "\n",
        "|                                                         |                                                                                                                                                                                       |\n",
        "|---------------------------------------------------------|---------------------------------------------------------------------------------------------------------------------------------------------------------------------------------------|\n",
        "| **Instruction level parallelism** (e.g. SIMD)           | → [`@simd`](https://docs.julialang.org/en/v1/base/base/#Base.SimdLoop.@simd), [SIMD.jl](https://github.com/eschnett/SIMD.jl), ...                                                     |\n",
        "| **Multi-threading** (shared memory)                     | → [Base.Threads](https://docs.julialang.org/en/v1/base/multi-threading/), [ThreadsX.jl](https://github.com/tkf/ThreadsX.jl), [FLoops.jl](https://github.com/JuliaFolds/FLoops.jl), .. |\n",
        "| **Multi-processing** (shared system memory)             | → [Distributed.jl](https://docs.julialang.org/en/v1/stdlib/Distributed/), [MPI.jl](https://github.com/JuliaParallel/MPI.jl), ...                                                      |\n",
        "| **Distributed processing** (typically no shared memory) | → [Distributed.jl](https://docs.julialang.org/en/v1/stdlib/Distributed/), [MPI.jl](https://github.com/JuliaParallel/MPI.jl), ...                                                      |\n",
        "| **GPU programming**                                     | → [CUDA.jl](https://github.com/JuliaGPU/CUDA.jl), [AMDGPU.jl](https://github.com/JuliaGPU/AMDGPU.jl), [oneAPI.jl](https://github.com/JuliaGPU/oneAPI.jl), [KernelAbstractions.jl](https://github.com/JuliaGPU/KernelAbstractions.jl), ... |"
      ]
    },
    {
      "cell_type": "markdown",
      "id": "a64c63a0-1fbb-48fb-80fc-e018cea1d484",
      "metadata": {
        "id": "a64c63a0-1fbb-48fb-80fc-e018cea1d484"
      },
      "source": [
        "Reference: [JuliaUCL24](https://github.com/carstenbauer/JuliaUCL24)"
      ]
    }
  ],
  "metadata": {
    "accelerator": "GPU",
    "colab": {
      "gpuType": "T4",
      "provenance": []
    },
    "kernelspec": {
      "display_name": "Julia",
      "name": "julia"
    },
    "language_info": {
      "name": "julia"
    }
  },
  "nbformat": 4,
  "nbformat_minor": 5
}